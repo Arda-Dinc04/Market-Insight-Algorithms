{
 "cells": [
  {
   "cell_type": "code",
   "execution_count": 1,
   "metadata": {},
   "outputs": [
    {
     "name": "stderr",
     "output_type": "stream",
     "text": [
      "/Users/ardadinc/Library/Python/3.9/lib/python/site-packages/urllib3/__init__.py:35: NotOpenSSLWarning: urllib3 v2 only supports OpenSSL 1.1.1+, currently the 'ssl' module is compiled with 'LibreSSL 2.8.3'. See: https://github.com/urllib3/urllib3/issues/3020\n",
      "  warnings.warn(\n"
     ]
    },
    {
     "name": "stdout",
     "output_type": "stream",
     "text": [
      "       Open      High      Low     Close     Volume  Ex-Dividend  Split Ratio  \\\n",
      "0    1.8000    1.8900    1.700    1.8492    72531.0          0.0          1.0   \n",
      "1   10.6900   10.8600   10.451   10.5300   557983.0          0.0          1.0   \n",
      "2  140.5000  140.5700  140.500  140.5200  1189653.0          0.0          1.0   \n",
      "3    3.4672    3.4672    3.350    3.3900     1925.0          0.0          1.0   \n",
      "4    3.0900    3.2000    2.970    3.1100  1222100.0          0.0          1.0   \n",
      "5    2.3600    2.4390    2.220    2.2600  2135214.0          0.0          1.0   \n",
      "6    2.8000    2.8300    2.670    2.7100   120485.0          0.0          1.0   \n",
      "\n",
      "   Adj. Open  Adj. High  Adj. Low  Adj. Close  Adj. Volume Ticker  \n",
      "0     1.8000     1.8900     1.700      1.8492      72531.0   BPTH  \n",
      "1    10.6900    10.8600    10.451     10.5300     557983.0   SNCR  \n",
      "2   140.5000   140.5700   140.500    140.5200    1189653.0    PRE  \n",
      "3     3.4672     3.4672     3.350      3.3900       1925.0   MIND  \n",
      "4     3.0900     3.2000     2.970      3.1100    1222100.0   AMPE  \n",
      "5     2.3600     2.4390     2.220      2.2600    2135214.0   XXII  \n",
      "6     2.8000     2.8300     2.670      2.7100     120485.0   SEAC  \n",
      "       Open      High      Low     Close     Volume  Ex-Dividend  Split Ratio  \\\n",
      "0    1.8000    1.8900    1.700    1.8492    72531.0          0.0          1.0   \n",
      "1   10.6900   10.8600   10.451   10.5300   557983.0          0.0          1.0   \n",
      "2  140.5000  140.5700  140.500  140.5200  1189653.0          0.0          1.0   \n",
      "3    3.4672    3.4672    3.350    3.3900     1925.0          0.0          1.0   \n",
      "4    3.0900    3.2000    2.970    3.1100  1222100.0          0.0          1.0   \n",
      "5    2.3600    2.4390    2.220    2.2600  2135214.0          0.0          1.0   \n",
      "6    2.8000    2.8300    2.670    2.7100   120485.0          0.0          1.0   \n",
      "\n",
      "   Adj. Open  Adj. High  Adj. Low  Adj. Close  Adj. Volume Ticker  \n",
      "0     1.8000     1.8900     1.700      1.8492      72531.0   BPTH  \n",
      "1    10.6900    10.8600    10.451     10.5300     557983.0   SNCR  \n",
      "2   140.5000   140.5700   140.500    140.5200    1189653.0    PRE  \n",
      "3     3.4672     3.4672     3.350      3.3900       1925.0   MIND  \n",
      "4     3.0900     3.2000     2.970      3.1100    1222100.0   AMPE  \n",
      "5     2.3600     2.4390     2.220      2.2600    2135214.0   XXII  \n",
      "6     2.8000     2.8300     2.670      2.7100     120485.0   SEAC  \n"
     ]
    }
   ],
   "source": [
    "import pandas as pd\n",
    "import quandl\n",
    "\n",
    "# Install the quandl package if it's not already installed\n",
    "# !pip install quandl\n",
    "\n",
    "# Set the API key\n",
    "quandl.ApiConfig.api_key = \"xyrEL2EBKf8XvGzp1YdA\"\n",
    "\n",
    "# Load the CSV file\n",
    "robinhood_profit_df = pd.read_csv('Robinhood_Profit.csv')\n",
    "\n",
    "# Extract the unique tickers from the CSV file\n",
    "tickers = robinhood_profit_df['Instrument'].unique()\n",
    "\n",
    "# Function to check if a ticker is valid\n",
    "def is_valid_ticker(ticker):\n",
    "    try:\n",
    "        # Try fetching a single row of data to validate the ticker\n",
    "        quandl.get(f\"WIKI/{ticker}\", rows=1)\n",
    "        return True\n",
    "    except Exception:\n",
    "        return False\n",
    "\n",
    "# Filter out invalid tickers\n",
    "valid_tickers = [ticker for ticker in tickers if is_valid_ticker(ticker)]\n",
    "\n",
    "# Prepare an empty DataFrame to store the data\n",
    "data_frames = []\n",
    "\n",
    "# Fetch the data for each valid ticker and store it in the DataFrame\n",
    "for ticker in valid_tickers:\n",
    "    try:\n",
    "        # Fetch the current data for the ticker\n",
    "        stock_data = quandl.get(f\"WIKI/{ticker}\", rows=1)\n",
    "        stock_data['Ticker'] = ticker\n",
    "        data_frames.append(stock_data)\n",
    "    except Exception as e:\n",
    "        print(f\"Error fetching data for {ticker}: {e}\")\n",
    "\n",
    "# Concatenate all the individual DataFrames into one\n",
    "if data_frames:\n",
    "    data = pd.concat(data_frames, ignore_index=True)\n",
    "    # Display the collected data\n",
    "    print(data)\n",
    "else:\n",
    "    print(\"No valid data fetched.\")\n",
    "\n",
    "# Check if the data was collected and concatenate it into a DataFrame\n",
    "if data_frames:\n",
    "    data = pd.concat(data_frames, ignore_index=True)\n",
    "    # Display the collected data\n",
    "    print(data)\n",
    "else:\n",
    "    print(\"No valid data fetched.\")\n"
   ]
  }
 ],
 "metadata": {
  "kernelspec": {
   "display_name": "Python 3",
   "language": "python",
   "name": "python3"
  },
  "language_info": {
   "codemirror_mode": {
    "name": "ipython",
    "version": 3
   },
   "file_extension": ".py",
   "mimetype": "text/x-python",
   "name": "python",
   "nbconvert_exporter": "python",
   "pygments_lexer": "ipython3",
   "version": "3.9.6"
  },
  "orig_nbformat": 4
 },
 "nbformat": 4,
 "nbformat_minor": 2
}
