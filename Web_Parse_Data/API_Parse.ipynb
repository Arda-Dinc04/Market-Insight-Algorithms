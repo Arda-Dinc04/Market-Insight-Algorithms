{
 "cells": [
  {
   "cell_type": "code",
   "execution_count": 1,
   "metadata": {},
   "outputs": [
    {
     "name": "stderr",
     "output_type": "stream",
     "text": [
      "/Users/ardadinc/Library/Python/3.9/lib/python/site-packages/urllib3/__init__.py:35: NotOpenSSLWarning: urllib3 v2 only supports OpenSSL 1.1.1+, currently the 'ssl' module is compiled with 'LibreSSL 2.8.3'. See: https://github.com/urllib3/urllib3/issues/3020\n",
      "  warnings.warn(\n",
      "404 Client Error: Not Found for url: https://query2.finance.yahoo.com/v10/finance/quoteSummary/FIXX?modules=financialData%2CquoteType%2CdefaultKeyStatistics%2CassetProfile%2CsummaryDetail&corsDomain=finance.yahoo.com&formatted=false&symbol=FIXX&crumb=UQl2mkeuMGp\n",
      "404 Client Error: Not Found for url: https://query2.finance.yahoo.com/v10/finance/quoteSummary/AGVNF?modules=financialData%2CquoteType%2CdefaultKeyStatistics%2CassetProfile%2CsummaryDetail&corsDomain=finance.yahoo.com&formatted=false&symbol=AGVNF&crumb=UQl2mkeuMGp\n",
      "404 Client Error: Not Found for url: https://query2.finance.yahoo.com/v10/finance/quoteSummary/WSCO?modules=financialData%2CquoteType%2CdefaultKeyStatistics%2CassetProfile%2CsummaryDetail&corsDomain=finance.yahoo.com&formatted=false&symbol=WSCO&crumb=UQl2mkeuMGp\n"
     ]
    },
    {
     "name": "stdout",
     "output_type": "stream",
     "text": [
      "           Date Symbol                    Company Name Split Ratio\n",
      "0    10/09/2024   SONY          Sony Group Corporation         1:5\n",
      "1    10/03/2024   LRCX        Lam Research Corporation        1:10\n",
      "2    09/30/2024  KDCLF                         Unknown         1:3\n",
      "3    09/17/2024   DECK     Deckers Outdoor Corporation         1:6\n",
      "8    09/12/2024   CTAS              Cintas Corporation         1:4\n",
      "..          ...    ...                             ...         ...\n",
      "672  01/10/2024  OMVKY          OMV Aktiengesellschaft         1:4\n",
      "687  01/05/2024  MICRD          Micron Solutions, Inc.      1:1000\n",
      "689  01/05/2024  IDKOY         Idemitsu Kosan Co.,Ltd.         1:5\n",
      "694  01/03/2024  URGYF            Bedford Metals Corp.         1:2\n",
      "701  01/02/2024  LNGPF  Longfor Group Holdings Limited         1:1\n",
      "\n",
      "[181 rows x 4 columns]\n"
     ]
    }
   ],
   "source": [
    "import requests\n",
    "import pandas as pd\n",
    "import yfinance as yf\n",
    "\n",
    "polygon_api_key = 'vnRBB5lYIL4PMH7VkU72AO19AjtHfenn'\n",
    "\n",
    "def get_stock_splits(start_date, end_date):\n",
    "    base_url = 'https://api.polygon.io/v3/reference/splits'\n",
    "    params = {\n",
    "        'apiKey': polygon_api_key,\n",
    "        'start_date': start_date,\n",
    "        'end_date': end_date,\n",
    "        'limit': 1000  # Adjust the limit as needed\n",
    "    }\n",
    "    try:\n",
    "        response = requests.get(base_url, params=params)\n",
    "        response.raise_for_status()\n",
    "        data = response.json()\n",
    "        return data.get('results', [])\n",
    "    except requests.exceptions.RequestException as e:\n",
    "        print(f\"HTTP Request failed: {e}\")\n",
    "        return []\n",
    "\n",
    "def get_company_name(ticker):\n",
    "    try:\n",
    "        stock = yf.Ticker(ticker)\n",
    "        return stock.info.get('longName', 'Unknown')\n",
    "    except KeyError:\n",
    "        return 'Unknown'\n",
    "    except Exception as e:\n",
    "        print(f\"Failed to get company name for {ticker}: {e}\")\n",
    "        return 'Unknown'\n",
    "\n",
    "# Example usage\n",
    "start_date = '2024-01-01'\n",
    "end_date = '2024-12-31'\n",
    "splits = get_stock_splits(start_date, end_date)\n",
    "\n",
    "# Convert the result to a DataFrame for easier handling\n",
    "df_splits = pd.DataFrame(splits)\n",
    "\n",
    "# Ensure the 'execution_date' column is in datetime format\n",
    "df_splits['execution_date'] = pd.to_datetime(df_splits['execution_date'])\n",
    "\n",
    "# Filter the DataFrame to include only rows within the specified date range\n",
    "df_splits = df_splits[(df_splits['execution_date'] >= start_date) & (df_splits['execution_date'] <= end_date)]\n",
    "\n",
    "# Remove rows where split_from is greater than or equal to split_to or split_from is not equal to 1\n",
    "df_splits = df_splits[(df_splits['split_from'] == 1) & (df_splits['split_from'] < df_splits['split_to'])]\n",
    "\n",
    "# Add company names to the DataFrame\n",
    "df_splits['Company Name'] = df_splits['ticker'].apply(get_company_name)\n",
    "\n",
    "# Format the DataFrame as per the new requirement\n",
    "df_splits['Date'] = df_splits['execution_date'].dt.strftime('%m/%d/%Y')\n",
    "df_splits['Symbol'] = df_splits['ticker']\n",
    "df_splits['Split Ratio'] = df_splits['split_from'].astype(int).astype(str) + ':' + df_splits['split_to'].astype(int).astype(str)\n",
    "\n",
    "# Select and reorder the columns as required\n",
    "df_splits = df_splits[['Date', 'Symbol', 'Company Name', 'Split Ratio']]\n",
    "\n",
    "# Save to a CSV file\n",
    "if not df_splits.empty:\n",
    "    df_splits.to_csv('/Users/ardadinc/Desktop/Market-Insight/Web_Parse_Data/Parsed_Data/API_Parsed_Data/stock_splits_polygon.csv', index=False)\n",
    "\n",
    "print(df_splits)\n"
   ]
  }
 ],
 "metadata": {
  "kernelspec": {
   "display_name": "Python 3",
   "language": "python",
   "name": "python3"
  },
  "language_info": {
   "codemirror_mode": {
    "name": "ipython",
    "version": 3
   },
   "file_extension": ".py",
   "mimetype": "text/x-python",
   "name": "python",
   "nbconvert_exporter": "python",
   "pygments_lexer": "ipython3",
   "version": "3.9.6"
  },
  "orig_nbformat": 4
 },
 "nbformat": 4,
 "nbformat_minor": 2
}
