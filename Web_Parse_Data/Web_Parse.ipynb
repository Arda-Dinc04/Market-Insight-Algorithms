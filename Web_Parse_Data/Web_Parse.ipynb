{
 "cells": [
  {
   "attachments": {},
   "cell_type": "markdown",
   "metadata": {},
   "source": [
    "<h3>-----------------------------Stock_Anaylsis.com Parsing Code-----------------------------<h>\n",
    "<h6>url = 'https://stockanalysis.com/actions/splits/'<h>\n"
   ]
  },
  {
   "cell_type": "code",
   "execution_count": 6,
   "metadata": {},
   "outputs": [
    {
     "name": "stdout",
     "output_type": "stream",
     "text": [
      "Data has been saved to StockAnalysis_Split_Data.csv\n"
     ]
    }
   ],
   "source": [
    "from bs4 import BeautifulSoup\n",
    "import requests\n",
    "import pandas as pd\n",
    "from datetime import datetime\n",
    "\n",
    "# URL of the webpage that contains stock split data\n",
    "url = 'https://stockanalysis.com/actions/splits/'\n",
    "\n",
    "# Custom headers to mimic a browser request\n",
    "headers = {\n",
    "    'User-Agent': 'Mozilla/5.0 (Windows NT 10.0; Win64; x64) AppleWebKit/537.36 (KHTML, like Gecko) Chrome/91.0.4472.124 Safari/537.36'\n",
    "}\n",
    "\n",
    "# Making the GET request\n",
    "response = requests.get(url, headers=headers)\n",
    "\n",
    "# Check if the request was successful\n",
    "if response.status_code == 200:\n",
    "    soup = BeautifulSoup(response.content, 'html.parser')\n",
    "    # Find the table or div that contains the stock split data\n",
    "    table = soup.find('table')  # Assuming the data is in a table\n",
    "    if table:\n",
    "        rows = table.find_all('tr')\n",
    "        data = []\n",
    "        for row in rows[1:]:  # Skipping the header row\n",
    "            cells = row.find_all('td')\n",
    "            if len(cells) > 1:\n",
    "                date_str = cells[0].text.strip()\n",
    "                date = datetime.strptime(date_str, \"%b %d, %Y\").strftime(\"%-m/%-d/%Y\")\n",
    "                symbol = cells[1].text.strip()\n",
    "                company_name = cells[2].text.strip()\n",
    "                split_type = cells[3].text.strip()\n",
    "                split_ratio = cells[4].text.strip().replace(\" for \", \" : \")\n",
    "                data.append([date, symbol, company_name, split_type, split_ratio])\n",
    "        \n",
    "        # Creating DataFrame\n",
    "        df = pd.DataFrame(data, columns=['Date', 'Symbol', 'Company Name', 'Type', 'Split Ratio'])\n",
    "        \n",
    "        # Removing rows that contain \"Forward\" in the 'Type' column\n",
    "        df = df[~df['Type'].str.contains(\"Forward\", case=False, na=False)]\n",
    "        \n",
    "        # Saving DataFrame to CSV\n",
    "        df.to_csv('/Users/ardadinc/Desktop/Market-Insight/Web_Parse_Data/Parsed_Data/StockAnalysis_Split_Data.csv', index=False)\n",
    "        print(\"Data has been saved to StockAnalysis_Split_Data.csv\")\n",
    "    else:\n",
    "        print(\"Failed to find the table containing stock split data.\")\n",
    "else:\n",
    "    print(f\"Failed to retrieve data. Status code: {response.status_code}\")\n"
   ]
  },
  {
   "attachments": {},
   "cell_type": "markdown",
   "metadata": {},
   "source": [
    "<h3>-----------------------------TipRanks.com Parsing Code-----------------------------<h>\n",
    "<h6>url = 'https://www.tipranks.com/calendars/stock-splits/upcoming'<h>\n"
   ]
  },
  {
   "cell_type": "code",
   "execution_count": 19,
   "metadata": {},
   "outputs": [
    {
     "name": "stdout",
     "output_type": "stream",
     "text": [
      "Tipranks data has been saved to Tipranks_Split_Data.csv\n"
     ]
    }
   ],
   "source": [
    "from bs4 import BeautifulSoup\n",
    "import requests\n",
    "import pandas as pd\n",
    "from datetime import datetime\n",
    "\n",
    "# Function to extract and process stock split data from tipranks.com\n",
    "def get_tipranks_data():\n",
    "    url = 'https://www.tipranks.com/calendars/stock-splits/upcoming'\n",
    "    headers = {\n",
    "        'User-Agent': 'Mozilla/5.0 (Windows NT 10.0; Win64; x64) AppleWebKit/537.36 (KHTML, like Gecko) Chrome/91.0.4472.124 Safari/537.36'\n",
    "    }\n",
    "    response = requests.get(url, headers=headers)\n",
    "    data = []\n",
    "    \n",
    "    if response.status_code == 200:\n",
    "        soup = BeautifulSoup(response.content, 'html.parser')\n",
    "        table = soup.find('table')\n",
    "        if table:\n",
    "            rows = table.find_all('tr')\n",
    "            for row in rows[1:]:  # Skip header row\n",
    "                cells = row.find_all('td')\n",
    "                if len(cells) > 1:\n",
    "                    split_date = cells[0].text.strip()\n",
    "                    split_date = datetime.strptime(split_date, \"%b %d, %Y\").strftime(\"%-m/%-d/%Y\")\n",
    "                    symbol = cells[1].text.strip()\n",
    "                    company_name = cells[2].text.strip()\n",
    "                    split_type = cells[3].text.strip()\n",
    "                    split_ratio = cells[4].text.strip().replace(\" for \", \" : \")\n",
    "                    if \"forward\" not in split_type:\n",
    "                        data.append([split_date, symbol, company_name, split_type, split_ratio])\n",
    "    else:\n",
    "        print(f\"Failed to retrieve data. Status code: {response.status_code}\")\n",
    "    \n",
    "    return data\n",
    "\n",
    "# Extract data from tipranks.com\n",
    "tipranks_data = get_tipranks_data()\n",
    "\n",
    "# Create DataFrame and save to CSV\n",
    "df_tipranks = pd.DataFrame(tipranks_data, columns=['Date', 'Symbol', 'Company Name', 'Type', 'Split Ratio'])\n",
    "df_tipranks.to_csv('/Users/ardadinc/Desktop/Market-Insight/Web_Parse_Data/Parsed_Data/Tipranks_Split_Data.csv', index=False)\n",
    "print(\"Tipranks data has been saved to Tipranks_Split_Data.csv\")\n"
   ]
  },
  {
   "attachments": {},
   "cell_type": "markdown",
   "metadata": {},
   "source": [
    "<h3>-----------------------------HedgeFollow.com Parsing Code-----------------------------<h>\n",
    "<h6>url = 'https://www.tipranks.com/calendars/stock-splits/upcoming'<h>\n"
   ]
  }
 ],
 "metadata": {
  "kernelspec": {
   "display_name": "Python 3",
   "language": "python",
   "name": "python3"
  },
  "language_info": {
   "codemirror_mode": {
    "name": "ipython",
    "version": 3
   },
   "file_extension": ".py",
   "mimetype": "text/x-python",
   "name": "python",
   "nbconvert_exporter": "python",
   "pygments_lexer": "ipython3",
   "version": "3.9.6"
  },
  "orig_nbformat": 4
 },
 "nbformat": 4,
 "nbformat_minor": 2
}
